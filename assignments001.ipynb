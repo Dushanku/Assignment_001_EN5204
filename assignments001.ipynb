{
 "cells": [
  {
   "attachments": {},
   "cell_type": "markdown",
   "metadata": {},
   "source": [
    "Question o1"
   ]
  },
  {
   "cell_type": "code",
   "execution_count": 5,
   "metadata": {},
   "outputs": [
    {
     "ename": "AssertionError",
     "evalue": "",
     "output_type": "error",
     "traceback": [
      "\u001b[1;31m---------------------------------------------------------------------------\u001b[0m",
      "\u001b[1;31mAssertionError\u001b[0m                            Traceback (most recent call last)",
      "Cell \u001b[1;32mIn[5], line 6\u001b[0m\n\u001b[0;32m      3\u001b[0m \u001b[39mimport\u001b[39;00m \u001b[39mmatplotlib\u001b[39;00m\u001b[39m.\u001b[39;00m\u001b[39mpyplot\u001b[39;00m \u001b[39mas\u001b[39;00m \u001b[39mplt\u001b[39;00m\n\u001b[0;32m      5\u001b[0m im \u001b[39m=\u001b[39m cv\u001b[39m.\u001b[39mimread (\u001b[39m'\u001b[39m\u001b[39mimages/sigiriya.jpg\u001b[39m\u001b[39m'\u001b[39m ,cv\u001b[39m.\u001b[39mIMREAD_REDUCED_GRAYSCALE_4 )\n\u001b[1;32m----> 6\u001b[0m \u001b[39massert\u001b[39;00m im \u001b[39mis\u001b[39;00m \u001b[39mnot\u001b[39;00m \u001b[39mNone\u001b[39;00m\n\u001b[0;32m      8\u001b[0m kernel \u001b[39m=\u001b[39m np\u001b[39m.\u001b[39mones(( \u001b[39m3\u001b[39m,\u001b[39m3\u001b[39m ), np\u001b[39m.\u001b[39mfloat32)\u001b[39m/\u001b[39m\u001b[39m9.\u001b[39m\n\u001b[0;32m      9\u001b[0m result \u001b[39m=\u001b[39m cv\u001b[39m.\u001b[39mfilter2D(im, \u001b[39m-\u001b[39m\u001b[39m1\u001b[39m, kernel)\n",
      "\u001b[1;31mAssertionError\u001b[0m: "
     ]
    }
   ],
   "source": [
    "import cv2 as cv\n",
    "import numpy as np\n",
    "import matplotlib.pyplot as plt\n",
    "\n",
    "im = cv.imread ('images/sigiriya.jpg' ,cv.IMREAD_REDUCED_GRAYSCALE_4 )\n",
    "assert im is not None\n",
    "\n",
    "kernel = np.ones(( 3,3 ), np.float32)/9.\n",
    "result = cv.filter2D(im, -1, kernel)\n",
    "\n",
    "fig, ax = plt.subplots(1,2, figsize=(10,20))\n",
    "ax[0].imshow(im, cmap='gray', vmin=0, vmax=255)\n",
    "ax[1].imshow(result, cmap='gray', vmin=0, vmax=255)\n",
    "plt.show()"
   ]
  },
  {
   "attachments": {},
   "cell_type": "markdown",
   "metadata": {},
   "source": [
    "Question 02"
   ]
  },
  {
   "cell_type": "code",
   "execution_count": null,
   "metadata": {},
   "outputs": [],
   "source": [
    "import cv2 as cv\n",
    "import numpy as np\n",
    "import matplotlib.pyplot as plt\n",
    "\n",
    "im = cv.imread ('images/sigiriya.jpg' ,cv.IMREAD_REDUCED_GRAYSCALE_4 )\n",
    "assert im is not None\n",
    "sobel_v = np.array([[-1,-2,-1],[0,0,0],[1,2,1]])\n",
    "result = cv.filter2D(im, -1, sobel_v)\n",
    "result = cv.normalize(result, result, 0, 255, cv.NORM_MINMAX, dtype=cv.CV_32F)\n",
    "\n",
    "\n",
    "fig, ax = plt.subplots(1,2, figsize=(10,20))\n",
    "ax[0].imshow(im, cmap='gray', vmin=0, vmax=255)\n",
    "ax[1].imshow(result, cmap='gray', vmin=0, vmax=255)\n",
    "plt.show()"
   ]
  }
 ],
 "metadata": {
  "kernelspec": {
   "display_name": "cv",
   "language": "python",
   "name": "python3"
  },
  "language_info": {
   "codemirror_mode": {
    "name": "ipython",
    "version": 3
   },
   "file_extension": ".py",
   "mimetype": "text/x-python",
   "name": "python",
   "nbconvert_exporter": "python",
   "pygments_lexer": "ipython3",
   "version": "3.11.1 (tags/v3.11.1:a7a450f, Dec  6 2022, 19:58:39) [MSC v.1934 64 bit (AMD64)]"
  },
  "orig_nbformat": 4,
  "vscode": {
   "interpreter": {
    "hash": "1df3a8821d9572c43dc1566313a4726de4fef46bb238b5a108cd916e42e22d30"
   }
  }
 },
 "nbformat": 4,
 "nbformat_minor": 2
}
